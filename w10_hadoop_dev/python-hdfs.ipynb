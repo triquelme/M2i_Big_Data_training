{
 "cells": [
  {
   "cell_type": "code",
   "execution_count": 4,
   "metadata": {},
   "outputs": [],
   "source": [
    "from hdfs import InsecureClient"
   ]
  },
  {
   "cell_type": "code",
   "execution_count": 3,
   "metadata": {},
   "outputs": [
    {
     "name": "stdout",
     "output_type": "stream",
     "text": [
      "Connected to hdfs.\n"
     ]
    }
   ],
   "source": [
    "def connect_to_hdfs(host):\n",
    "    try:\n",
    "        client = InsecureClient(host)\n",
    "        print('Connected to hdfs.')\n",
    "    except:\n",
    "        print('ERROR connecting.')\n",
    "    \n",
    "    return client\n",
    "\n",
    "HOST_HDFS = 'http://localhost:9870'\n",
    "\n",
    "#connect to hdfs\n",
    "client = connect_to_hdfs(HOST_HDFS)"
   ]
  },
  {
   "cell_type": "code",
   "execution_count": 7,
   "metadata": {},
   "outputs": [],
   "source": [
    "def write_to_hdfs(client):\n",
    "    from json import dump, dumps\n",
    "    # dump : text => dict\n",
    "    records = [{'name': 'eric', 'weight': 90}, {'name': 'coco', 'weight':60},\n",
    "               {'name': 'baba', 'weight': 100}, {'name': 'lisa', 'weight':50},\n",
    "               {'name': 'alex', 'weight': 80}, {'name': 'samba', 'weight':70}]\n",
    "    \n",
    "    # to write on my local machine\n",
    "    #with open('bureau/test1.json', encoding='utf8') as writer:\n",
    "        #writer.write(records)\n",
    "        \n",
    "    # to write on HDFS \n",
    "    # as a context manager\n",
    "    with client.write('/test/records.jsonl', encoding='utf-8') as writer:\n",
    "        print('write')\n",
    "        dump(records, writer)\n",
    "    \n",
    "    \n",
    "write_to_hdfs(client)    "
   ]
  },
  {
   "cell_type": "code",
   "execution_count": 8,
   "metadata": {},
   "outputs": [],
   "source": [
    "# create dir in hdfs with python\n",
    "client.makedirs('/toto')"
   ]
  },
  {
   "cell_type": "code",
   "execution_count": 9,
   "metadata": {},
   "outputs": [
    {
     "name": "stdout",
     "output_type": "stream",
     "text": [
      "Uploading file...\n"
     ]
    }
   ],
   "source": [
    "def put_to_hdfs(client, destination_path, source_path):\n",
    "    try:\n",
    "        print('Uploading file...')\n",
    "        client.upload(destination_path, source_path, n_threads=5)\n",
    "    except Exception as e:\n",
    "        print('ERROR uploading file')\n",
    "        print(e)\n",
    "        \n",
    "hdfs_destination_path='/toto'\n",
    "local_source_path='/Users/thomas/Documents/poe_bigdata/s10_hadoop_dev/hdfs_cmds.txt'\n",
    "put_to_hdfs(client, hdfs_destination_path, local_source_path)    "
   ]
  },
  {
   "cell_type": "code",
   "execution_count": null,
   "metadata": {},
   "outputs": [],
   "source": [
    "# list files in dir in hdfs with python (equivalent -ls)\n",
    "client.list('/toto')"
   ]
  },
  {
   "cell_type": "code",
   "execution_count": null,
   "metadata": {},
   "outputs": [],
   "source": [
    "# To delete a directory\n",
    "client.delete('/test2', recursive=true)"
   ]
  }
 ],
 "metadata": {
  "kernelspec": {
   "display_name": "Python 3",
   "language": "python",
   "name": "python3"
  },
  "language_info": {
   "codemirror_mode": {
    "name": "ipython",
    "version": 3
   },
   "file_extension": ".py",
   "mimetype": "text/x-python",
   "name": "python",
   "nbconvert_exporter": "python",
   "pygments_lexer": "ipython3",
   "version": "3.7.6"
  }
 },
 "nbformat": 4,
 "nbformat_minor": 4
}
