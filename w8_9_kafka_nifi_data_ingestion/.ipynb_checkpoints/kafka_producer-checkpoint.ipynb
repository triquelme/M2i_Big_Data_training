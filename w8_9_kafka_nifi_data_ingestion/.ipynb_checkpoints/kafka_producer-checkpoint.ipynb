{
 "cells": [
  {
   "cell_type": "code",
   "execution_count": 32,
   "metadata": {},
   "outputs": [],
   "source": [
    "import kafka\n",
    "from kafka import KafkaProducer\n",
    "from json import dumps\n",
    "from time import sleep\n",
    "\n",
    "if __name__ == \"__main__\":\n",
    "    \n",
    "    # producer1\n",
    "    producer = KafkaProducer(bootstrap_servers=['localhost:9092'], \n",
    "                             value_serializer=lambda x: dumps(x).encode('utf-8'))\n",
    "    \n",
    "    for e in range(10):\n",
    "        producer.send('topic-cr', value=e)\n",
    "        sleep(2)\n",
    "    \n",
    "    # producer2\n",
    "    producer2 = KafkaProducer(bootstrap_servers=['localhost:9092'], \n",
    "                             value_serializer=lambda x: dumps(x).encode('utf-8'))\n",
    "    for e in range(10):\n",
    "        data = {'number' : e}\n",
    "        producer2.send('topic-cr', value=data)\n",
    "        sleep(2)\n",
    "        "
   ]
  }
 ],
 "metadata": {
  "kernelspec": {
   "display_name": "Python 3",
   "language": "python",
   "name": "python3"
  },
  "language_info": {
   "codemirror_mode": {
    "name": "ipython",
    "version": 3
   },
   "file_extension": ".py",
   "mimetype": "text/x-python",
   "name": "python",
   "nbconvert_exporter": "python",
   "pygments_lexer": "ipython3",
   "version": "3.7.6"
  }
 },
 "nbformat": 4,
 "nbformat_minor": 4
}
