{
 "cells": [
  {
   "cell_type": "code",
   "execution_count": null,
   "metadata": {},
   "outputs": [
    {
     "name": "stdout",
     "output_type": "stream",
     "text": [
      "message : [{'nom': 'Kiwi', 'couleur': 'Vert', 'taille': '2'}, {'nom': 'Ananas', 'couleur': 'Jaune', 'taille': '7'}, {'nom': 'Pastèque', 'couleur': 'Vert', 'taille': '10'}, {'nom': 'Pomme Golden', 'couleur': 'Jaune', 'taille': '4'}, {'nom': 'Tomate', 'couleur': 'Rouge', 'taille': '2'}, {'nom': 'Kaki', 'couleur': 'Orange', 'taille': '6'}, {'nom': 'Banane', 'couleur': 'Jaune', 'taille': '5'}, {'nom': 'Pêche', 'couleur': 'Rose', 'taille': '4'}]\n",
      "<class 'list'>\n",
      "message : [{'nom': 'Kiwi', 'couleur': 'Vert', 'taille': '2'}, {'nom': 'Ananas', 'couleur': 'Jaune', 'taille': '7'}, {'nom': 'Pastèque', 'couleur': 'Vert', 'taille': '10'}, {'nom': 'Pomme Golden', 'couleur': 'Jaune', 'taille': '4'}, {'nom': 'Tomate', 'couleur': 'Rouge', 'taille': '2'}, {'nom': 'Kaki', 'couleur': 'Orange', 'taille': '6'}, {'nom': 'Banane', 'couleur': 'Jaune', 'taille': '5'}, {'nom': 'Pêche', 'couleur': 'Rose', 'taille': '4'}]\n",
      "<class 'list'>\n",
      "message : [{'nom': 'Kiwi', 'couleur': 'Vert', 'taille': '2'}, {'nom': 'Ananas', 'couleur': 'Jaune', 'taille': '7'}, {'nom': 'Pastèque', 'couleur': 'Vert', 'taille': '10'}, {'nom': 'Pomme Golden', 'couleur': 'Jaune', 'taille': '4'}, {'nom': 'Tomate', 'couleur': 'Rouge', 'taille': '2'}, {'nom': 'Kaki', 'couleur': 'Orange', 'taille': '6'}, {'nom': 'Banane', 'couleur': 'Jaune', 'taille': '5'}, {'nom': 'Pêche', 'couleur': 'Rose', 'taille': '4'}]\n",
      "<class 'list'>\n"
     ]
    }
   ],
   "source": [
    "import kafka\n",
    "from kafka import KafkaConsumer\n",
    "from json import loads\n",
    "\n",
    "if __name__ == \"__main__\":\n",
    "    # consumer1: reads Strings and Int\n",
    "    \"\"\"consumer = KafkaConsumer('topic-cr', bootstrap_servers=['localhost:9092'])\n",
    "    \n",
    "    for message in consumer:\n",
    "        message = bytes.decode(message.value)\n",
    "        print('message : {}'.format(message))\"\"\"\n",
    "        \n",
    "    #2 consumer2: reads dictionary\n",
    "    consumer2 = KafkaConsumer('topic-cr', bootstrap_servers=['localhost:9092'],\n",
    "                             value_deserializer=lambda x: loads(x.decode('utf-8')))\n",
    "    for message in consumer2:\n",
    "        message = message.value\n",
    "        print('message : {}'.format(message))\n",
    "        #print(type(message))"
   ]
  }
 ],
 "metadata": {
  "kernelspec": {
   "display_name": "Python 3",
   "language": "python",
   "name": "python3"
  },
  "language_info": {
   "codemirror_mode": {
    "name": "ipython",
    "version": 3
   },
   "file_extension": ".py",
   "mimetype": "text/x-python",
   "name": "python",
   "nbconvert_exporter": "python",
   "pygments_lexer": "ipython3",
   "version": "3.7.6"
  }
 },
 "nbformat": 4,
 "nbformat_minor": 4
}
