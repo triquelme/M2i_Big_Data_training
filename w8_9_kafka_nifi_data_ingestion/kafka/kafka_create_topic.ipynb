{
 "cells": [
  {
   "cell_type": "code",
   "execution_count": 1,
   "metadata": {},
   "outputs": [
    {
     "data": {
      "text/plain": [
       "CreateTopicsResponse_v2(throttle_time_ms=0, topic_errors=[(topic='topic-cr', error_code=0, error_message=None)])"
      ]
     },
     "execution_count": 1,
     "metadata": {},
     "output_type": "execute_result"
    }
   ],
   "source": [
    "from kafka.admin import KafkaAdminClient, NewTopic\n",
    "\n",
    "admin_client = KafkaAdminClient(bootstrap_servers=\"localhost:9092\")\n",
    "\n",
    "topic_list =[]\n",
    "topic_list.append(NewTopic(name=\"topic-cr\", num_partitions=1, replication_factor=1))\n",
    "\n",
    "admin_client.create_topics(new_topics=topic_list, validate_only=False)\n",
    "\n"
   ]
  }
 ],
 "metadata": {
  "kernelspec": {
   "display_name": "Python 3",
   "language": "python",
   "name": "python3"
  },
  "language_info": {
   "codemirror_mode": {
    "name": "ipython",
    "version": 3
   },
   "file_extension": ".py",
   "mimetype": "text/x-python",
   "name": "python",
   "nbconvert_exporter": "python",
   "pygments_lexer": "ipython3",
   "version": "3.7.6"
  }
 },
 "nbformat": 4,
 "nbformat_minor": 4
}
