{
 "cells": [
  {
   "cell_type": "code",
   "execution_count": 19,
   "metadata": {},
   "outputs": [],
   "source": [
    "import kafka\n",
    "from kafka import KafkaProducer\n",
    "from json import dumps\n",
    "import xml.etree.ElementTree as ET\n",
    "\n",
    "if __name__ == \"__main__\":\n",
    "\n",
    "    tree = ET.parse('personne.xml')\n",
    "\n",
    "    personne_liste = []\n",
    "    root = tree.getroot()\n",
    "    \n",
    "    producer = KafkaProducer(bootstrap_servers=['localhost:9092'], \n",
    "                                 value_serializer=lambda x: dumps(x).encode('utf-8'))\n",
    "\n",
    "    for child in root:\n",
    "        personne_liste.append({'name': child.find('nom').text,'job': child.find('job').text })\n",
    "        producer.send('topic-cr', value={'name': child.find('nom').text,'job': child.find('job').text }) \n",
    "    # ou :\n",
    "    # producer.send('topic-cr', value=personne_liste)"
   ]
  },
  {
   "cell_type": "code",
   "execution_count": 13,
   "metadata": {},
   "outputs": [],
   "source": [
    "import pandas as pd\n",
    "\n",
    "df = pd.DataFrame(personne_liste)"
   ]
  },
  {
   "cell_type": "code",
   "execution_count": 14,
   "metadata": {},
   "outputs": [
    {
     "data": {
      "text/html": [
       "<div>\n",
       "<style scoped>\n",
       "    .dataframe tbody tr th:only-of-type {\n",
       "        vertical-align: middle;\n",
       "    }\n",
       "\n",
       "    .dataframe tbody tr th {\n",
       "        vertical-align: top;\n",
       "    }\n",
       "\n",
       "    .dataframe thead th {\n",
       "        text-align: right;\n",
       "    }\n",
       "</style>\n",
       "<table border=\"1\" class=\"dataframe\">\n",
       "  <thead>\n",
       "    <tr style=\"text-align: right;\">\n",
       "      <th></th>\n",
       "      <th>name</th>\n",
       "      <th>job</th>\n",
       "    </tr>\n",
       "  </thead>\n",
       "  <tbody>\n",
       "    <tr>\n",
       "      <th>0</th>\n",
       "      <td>DUPONT</td>\n",
       "      <td>DataScientist</td>\n",
       "    </tr>\n",
       "    <tr>\n",
       "      <th>1</th>\n",
       "      <td>MOREAU</td>\n",
       "      <td>Clown</td>\n",
       "    </tr>\n",
       "    <tr>\n",
       "      <th>2</th>\n",
       "      <td>AGNES</td>\n",
       "      <td>Veterinaire</td>\n",
       "    </tr>\n",
       "  </tbody>\n",
       "</table>\n",
       "</div>"
      ],
      "text/plain": [
       "     name            job\n",
       "0  DUPONT  DataScientist\n",
       "1  MOREAU          Clown\n",
       "2   AGNES    Veterinaire"
      ]
     },
     "execution_count": 14,
     "metadata": {},
     "output_type": "execute_result"
    }
   ],
   "source": [
    "df"
   ]
  }
 ],
 "metadata": {
  "kernelspec": {
   "display_name": "Python 3",
   "language": "python",
   "name": "python3"
  },
  "language_info": {
   "codemirror_mode": {
    "name": "ipython",
    "version": 3
   },
   "file_extension": ".py",
   "mimetype": "text/x-python",
   "name": "python",
   "nbconvert_exporter": "python",
   "pygments_lexer": "ipython3",
   "version": "3.7.6"
  }
 },
 "nbformat": 4,
 "nbformat_minor": 4
}
